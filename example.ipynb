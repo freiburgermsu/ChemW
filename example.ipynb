{
 "cells": [
  {
   "cell_type": "code",
   "execution_count": 16,
   "metadata": {
    "scrolled": false
   },
   "outputs": [
    {
     "name": "stdout",
     "output_type": "stream",
     "text": [
      "\n",
      "\n",
      "\n",
      " Na2.43_Cl_(OH)2_(OH)1.2_(OH) \n",
      " ========================================================\n",
      "pass\n",
      "\n",
      "\n",
      "\n",
      "\n",
      "\n",
      " Na2.43Cl(Ca(OH)2)1.2 \n",
      " ========================================\n",
      "pass\n",
      "\n",
      "\n",
      "\n",
      "\n",
      "\n",
      " Na2.43Cl:2H2O \n",
      " ==========================\n",
      "pass\n",
      "\n",
      "\n",
      "\n",
      "\n",
      "\n",
      " Na2.43Cl2.5:2H2O \n",
      " ================================\n",
      "pass\n",
      "\n",
      "\n"
     ]
    }
   ],
   "source": [
    "from sigfig import round\n",
    "import pandas\n",
    "%run ./mw.py\n",
    "# display(dir(mw))\n",
    "\n",
    "# parse the PHREEQ database\n",
    "# phreeq_db('pitzer.dat')\n",
    "\n",
    "# calculate the MW for individual chemicals via the ChemMW module \n",
    "test_chemicals = {\n",
    "    'Na2.43_Cl_(OH)2_(OH)1.2_(OH)': 162.7,\n",
    "    'Na2.43Cl(Ca(OH)2)1.2':180.2,\n",
    "    'Na2.43Cl:2H2O': 127.3,\n",
    "    'Na2.43Cl2.5:2H2O': 180.5,\n",
    "}\n",
    "mw = ChemMW(verbose = False)\n",
    "for chemical in test_chemicals:\n",
    "    print('\\n\\n\\n', chemical, '\\n', '='*2*len(chemical))\n",
    "    mw.mass(chemical)\n",
    "    if round(mw.mineral_mass, 4) != test_chemicals[chemical]:\n",
    "        mw = ChemMW(verbose = True)\n",
    "        mw.mass(chemical)\n",
    "    else:\n",
    "        print('pass\\n\\n')"
   ]
  },
  {
   "cell_type": "code",
   "execution_count": null,
   "metadata": {},
   "outputs": [],
   "source": []
  },
  {
   "cell_type": "code",
   "execution_count": 6,
   "metadata": {},
   "outputs": [
    {
     "data": {
      "text/plain": [
       "['__builtins__',\n",
       " '__cached__',\n",
       " '__doc__',\n",
       " '__file__',\n",
       " '__loader__',\n",
       " '__name__',\n",
       " '__package__',\n",
       " '__path__',\n",
       " '__spec__']"
      ]
     },
     "execution_count": 6,
     "metadata": {},
     "output_type": "execute_result"
    }
   ],
   "source": [
    "import calcmass\n",
    "\n",
    "dir(calcmass)\n",
    "# calcmass('H2O')"
   ]
  }
 ],
 "metadata": {
  "kernelspec": {
   "display_name": "Python 3",
   "language": "python",
   "name": "python3"
  },
  "language_info": {
   "codemirror_mode": {
    "name": "ipython",
    "version": 3
   },
   "file_extension": ".py",
   "mimetype": "text/x-python",
   "name": "python",
   "nbconvert_exporter": "python",
   "pygments_lexer": "ipython3",
   "version": "3.7.4"
  }
 },
 "nbformat": 4,
 "nbformat_minor": 2
}
