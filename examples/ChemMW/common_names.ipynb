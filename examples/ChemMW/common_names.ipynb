{
 "cells": [
  {
   "cell_type": "markdown",
   "metadata": {},
   "source": [
    "# Amino acids"
   ]
  },
  {
   "cell_type": "code",
   "execution_count": 3,
   "metadata": {
    "scrolled": true
   },
   "outputs": [
    {
     "name": "stderr",
     "output_type": "stream",
     "text": [
      "C:\\Users\\Andrew Freiburger\\Dropbox\\My PC (DESKTOP-M302P50)\\Documents\\UVic Civil Engineering\\PHREEQC\\mw\\chemw\\mw.py:108: DeprecationWarning: invalid escape sequence \\.\n",
      "  if re.search('(\\.0$)', str(stoich)):\n",
      "C:\\Users\\Andrew Freiburger\\Dropbox\\My PC (DESKTOP-M302P50)\\Documents\\UVic Civil Engineering\\PHREEQC\\mw\\chemw\\mw.py:119: DeprecationWarning: invalid escape sequence \\.\n",
      "  mass_sigfigs = len(re.sub('\\.', '', str(mass)))\n",
      "C:\\Users\\Andrew Freiburger\\Dropbox\\My PC (DESKTOP-M302P50)\\Documents\\UVic Civil Engineering\\PHREEQC\\mw\\chemw\\mw.py:474: DeprecationWarning: invalid escape sequence \\w\n",
      "  remainder = re.sub('(\\w)', '', protein_sequence, flags = re.IGNORECASE)\n",
      "C:\\Users\\Andrew Freiburger\\Dropbox\\My PC (DESKTOP-M302P50)\\Documents\\UVic Civil Engineering\\PHREEQC\\mw\\chemw\\mw.py:492: DeprecationWarning: invalid escape sequence \\-\n",
      "  elif re.search('(\\-)+(\\*)?', remainder):\n",
      "C:\\Users\\Andrew Freiburger\\Dropbox\\My PC (DESKTOP-M302P50)\\Documents\\UVic Civil Engineering\\PHREEQC\\mw\\chemw\\mw.py:562: DeprecationWarning: invalid escape sequence \\w\n",
      "  if re.search('(^\\w+\\s*\\d*$)',self.db.at[index, 'content']):\n",
      "C:\\Users\\Andrew Freiburger\\Dropbox\\My PC (DESKTOP-M302P50)\\Documents\\UVic Civil Engineering\\PHREEQC\\mw\\chemw\\mw.py:567: DeprecationWarning: invalid escape sequence \\s\n",
      "  name = re.sub('(\\s+\\d*)', '', name)\n",
      "C:\\Users\\Andrew Freiburger\\Dropbox\\My PC (DESKTOP-M302P50)\\Documents\\UVic Civil Engineering\\PHREEQC\\mw\\chemw\\mw.py:607: DeprecationWarning: invalid escape sequence \\.\n",
      "  self.db_name = re.search('([A-Za-z0-9_.]+(?=\\.dat))', db_path).group()\n"
     ]
    },
    {
     "name": "stdout",
     "output_type": "stream",
     "text": [
      "{'alanine': {'one_letter': 'A', 'three_letter': 'ala'},\n",
      " 'arginine': {'one_letter': 'R', 'three_letter': 'arg'},\n",
      " 'asparagine': {'one_letter': 'N', 'three_letter': 'asn'},\n",
      " 'aspartic acid': {'one_letter': 'D', 'three_letter': 'asp'},\n",
      " 'cysteine': {'one_letter': 'C', 'three_letter': 'cys'},\n",
      " 'glutamic acid': {'one_letter': 'E', 'three_letter': 'glu'},\n",
      " 'glutamine': {'one_letter': 'Q', 'three_letter': 'gln'},\n",
      " 'glycine': {'one_letter': 'G', 'three_letter': 'gly'},\n",
      " 'histidine': {'one_letter': 'H', 'three_letter': 'his'},\n",
      " 'isoleucine': {'one_letter': 'I', 'three_letter': 'ile'},\n",
      " 'leucine': {'one_letter': 'L', 'three_letter': 'leu'},\n",
      " 'lysine': {'one_letter': 'K', 'three_letter': 'lys'},\n",
      " 'methionine': {'one_letter': 'M', 'three_letter': 'met'},\n",
      " 'phenylalanine': {'one_letter': 'F', 'three_letter': 'phe'},\n",
      " 'proline': {'one_letter': 'P', 'three_letter': 'pro'},\n",
      " 'serine': {'one_letter': 'S', 'three_letter': 'ser'},\n",
      " 'threonine': {'one_letter': 'T', 'three_letter': 'thr'},\n",
      " 'tryptophan': {'one_letter': 'W', 'three_letter': 'trp'},\n",
      " 'tyrosine': {'one_letter': 'Y', 'three_letter': 'tyr'},\n",
      " 'valine': {'one_letter': 'V', 'three_letter': 'val'}}\n",
      "\n",
      "\n",
      "\n",
      "alanine(C3H7NO2) --- MW (amu): 89.0932\n",
      "\n",
      "\n",
      "arginine(C6H14N4O2) --- MW (amu): 174.201\n",
      "\n",
      "\n",
      "asparagine(C4H8N2O3) --- MW (amu): 132.118\n",
      "\n",
      "\n",
      "aspartic acid(C4H7NO4) --- MW (amu): 133.103\n",
      "\n",
      "\n",
      "cysteine(C3H7NO2S) --- MW (amu): 121.16\n",
      "\n",
      "\n",
      "glutamic acid(C5H9NO4) --- MW (amu): 147.13\n",
      "\n",
      "\n",
      "glutamine(C5H10N2O3) --- MW (amu): 146.14\n",
      "\n",
      "\n",
      "glycine(C2H5NO2) --- MW (amu): 75.067\n",
      "\n",
      "\n",
      "histidine(C6H9N3O2) --- MW (amu): 155.15\n",
      "\n",
      "\n",
      "isoleucine(C6H13NO2) --- MW (amu): 131.17\n",
      "\n",
      "\n",
      "leucine(C6H13NO2) --- MW (amu): 131.17\n",
      "\n",
      "\n",
      "lysine(C6H14N2O2) --- MW (amu): 146.19\n",
      "\n",
      "\n",
      "methionine(C5H11NO2S) --- MW (amu): 149.21\n",
      "\n",
      "\n",
      "phenylalanine(C9H11NO2) --- MW (amu): 165.19\n",
      "\n",
      "\n",
      "proline(C5H9NO2) --- MW (amu): 115.13\n",
      "\n",
      "\n",
      "serine(C3H7NO3) --- MW (amu): 105.09\n",
      "\n",
      "\n",
      "threonine(C4H9NO3) --- MW (amu): 119.12\n",
      "\n",
      "\n",
      "tryptophan(C11H12N2O2) --- MW (amu): 204.23\n",
      "\n",
      "\n",
      "tyrosine(C9H11NO3) --- MW (amu): 181.19\n",
      "\n",
      "\n",
      "valine(C5H11NO2) --- MW (amu): 117.15\n",
      "\n",
      "\n"
     ]
    }
   ],
   "source": [
    "from pubchempy import get_compounds\n",
    "from pprint import pprint\n",
    "import requests\n",
    "import json, io\n",
    "%run ../../chemw/mw.py\n",
    "\n",
    "# import a JSON of the amino acids\n",
    "codons_amino_acids = requests.get('https://raw.githubusercontent.com/freiburgermsu/codons/main/codons/rosetta_stone/amino_acid_synonyms.json').content\n",
    "aa_dic = json.load(io.StringIO(codons_amino_acids.decode('utf-8')))\n",
    "pprint(aa_dic)\n",
    "print('\\n\\n')\n",
    "\n",
    "# parse the amino acids and construct a new dictionary of abbreviated amino acids\n",
    "aa_masses = {}\n",
    "chem_mw = ChemMW()\n",
    "for aa in aa_dic:\n",
    "    mass = chem_mw.mass(common_name = aa)\n",
    "    aa_masses[aa_dic[aa]['three_letter']] = aa_masses[aa_dic[aa]['one_letter']] = mass\n",
    "    print('\\n')\n",
    "    \n",
    "# export the amino acids dictionary\n",
    "# with open('amino_acids_masses.json', 'w') as out:\n",
    "#     json.dump(aa_masses,out, indent = 4)"
   ]
  },
  {
   "cell_type": "markdown",
   "metadata": {},
   "source": [
    "# Miscellaneous chemicals"
   ]
  },
  {
   "cell_type": "code",
   "execution_count": 3,
   "metadata": {},
   "outputs": [
    {
     "name": "stdout",
     "output_type": "stream",
     "text": [
      "water(H2O) --- MW (amu): 18.0153\n",
      "The water mass of 18.0153 has 1 more significant figures than the 18.015 PubChem mass.\n",
      "\n",
      "\n",
      "acetone(C3H6O) --- MW (amu): 58.0791\n",
      "The acetone mass of 58.0791 has 2 more significant figures than the 58.08 PubChem mass.\n",
      "\n",
      "\n",
      "toluene(C7H8) --- MW (amu): 92.1384\n",
      "The toluene mass of 92.1384 has 2 more significant figures than the 92.14 PubChem mass.\n",
      "\n",
      "\n",
      "glucose(C6H12O6) --- MW (amu): 180.156\n",
      "The glucose mass of 180.156 has 1 more significant figures than the 180.16 PubChem mass.\n",
      "\n",
      "\n",
      "sucrose(C12H22O11) --- MW (amu): 342.296\n",
      "The sucrose mass of 342.296 has 1 more significant figures than the 342.30 PubChem mass.\n",
      "\n",
      "\n",
      "aspirin(C9H8O4) --- MW (amu): 180.157\n",
      "The aspirin mass of 180.157 has 1 more significant figures than the 180.16 PubChem mass.\n",
      "\n",
      "\n",
      "hydrochloric acid(ClH) --- MW (amu): 36.461\n",
      "The hydrochloric acid mass of 36.461 has 1 more significant figures than the 36.46 PubChem mass.\n",
      "\n",
      "\n"
     ]
    }
   ],
   "source": [
    "from pubchempy import get_compounds\n",
    "%run ../../chemw/mw.py\n",
    "\n",
    "chem_mw = ChemMW()\n",
    "\n",
    "chemicals = ['water','acetone','toluene','glucose','sucrose','aspirin','hydrochloric acid']\n",
    "for chem in chemicals:\n",
    "    pubchem_mass = get_compounds(chem, 'name')[0].molecular_weight\n",
    "    chemw_mass = chem_mw.mass(common_name = chem)\n",
    "    print(f'The {chem} mass of {chemw_mass} has {len(chemw_mass) - len(str(pubchem_mass))} more significant figures than the {pubchem_mass} PubChem mass.\\n')"
   ]
  },
  {
   "cell_type": "code",
   "execution_count": null,
   "metadata": {},
   "outputs": [],
   "source": []
  }
 ],
 "metadata": {
  "kernelspec": {
   "display_name": "Python 3",
   "language": "python",
   "name": "python3"
  },
  "language_info": {
   "codemirror_mode": {
    "name": "ipython",
    "version": 3
   },
   "file_extension": ".py",
   "mimetype": "text/x-python",
   "name": "python",
   "nbconvert_exporter": "python",
   "pygments_lexer": "ipython3",
   "version": "3.7.4"
  }
 },
 "nbformat": 4,
 "nbformat_minor": 2
}
