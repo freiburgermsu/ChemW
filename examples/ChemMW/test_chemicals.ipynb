{
 "cells": [
  {
   "cell_type": "code",
   "execution_count": 14,
   "metadata": {
    "scrolled": false
   },
   "outputs": [
    {
     "name": "stdout",
     "output_type": "stream",
     "text": [
      "C60 --- MW (amu): 720.642\n",
      "The mass is accurate.\n",
      "\n",
      "\n",
      "C60H120O2 --- MW (amu): 873.594\n",
      "The mass is accurate.\n",
      "\n",
      "\n",
      "Na2.43Cl(OH)2(OH)1.2(OH) --- MW (amu): 162.75\n",
      "The mass is accurate.\n",
      "\n",
      "\n",
      "Na2.43Cl(Ca(OH)2)1.2 --- MW (amu): 180.23\n",
      "The mass is accurate.\n",
      "\n",
      "\n",
      "Na2.43Cl:2H2O --- MW (amu): 127.35\n",
      "The mass is accurate.\n",
      "\n",
      "\n",
      "Na2.43Cl2.5:2H2O --- MW (amu): 180.53\n",
      "The mass is accurate.\n",
      "\n",
      "\n",
      "CaCl2:(MgCl2)2:12H2O --- MW (amu): 517.59\n",
      "The mass is accurate.\n",
      "\n",
      "\n",
      "Na2SO4:3K2SO4 --- MW (amu): 664.82\n",
      "The mass is accurate.\n",
      "\n",
      "\n",
      "K2SO4:CaSO4:H2O --- MW (amu): 328.42\n",
      "The mass is accurate.\n",
      "\n",
      "\n",
      "Na.96Al.96Si2.04O6:H2O  --- MW (amu): 219.279\n",
      "The mass is accurate.\n",
      "\n",
      "\n",
      "Ca1.019Na.136K.006Al2.18Si6.82O18:7.33H2O --- MW (amu): 714.60\n",
      "The mass is accurate.\n",
      "\n",
      "\n"
     ]
    },
    {
     "name": "stderr",
     "output_type": "stream",
     "text": [
      "C:\\Users\\Andrew Freiburger\\Dropbox\\My PC (DESKTOP-M302P50)\\Documents\\UVic Civil Engineering\\PHREEQC\\mw\\chemw\\mw.py:108: DeprecationWarning: invalid escape sequence \\.\n",
      "  if re.search('(\\.0$)', str(stoich)):\n",
      "C:\\Users\\Andrew Freiburger\\Dropbox\\My PC (DESKTOP-M302P50)\\Documents\\UVic Civil Engineering\\PHREEQC\\mw\\chemw\\mw.py:119: DeprecationWarning: invalid escape sequence \\.\n",
      "  mass_sigfigs = len(re.sub('\\.', '', str(mass)))\n",
      "C:\\Users\\Andrew Freiburger\\Dropbox\\My PC (DESKTOP-M302P50)\\Documents\\UVic Civil Engineering\\PHREEQC\\mw\\chemw\\mw.py:474: DeprecationWarning: invalid escape sequence \\w\n",
      "  else:\n",
      "C:\\Users\\Andrew Freiburger\\Dropbox\\My PC (DESKTOP-M302P50)\\Documents\\UVic Civil Engineering\\PHREEQC\\mw\\chemw\\mw.py:492: DeprecationWarning: invalid escape sequence \\-\n",
      "  self.protein_mass = calc_protein_mass(protein_sequence)\n",
      "C:\\Users\\Andrew Freiburger\\Dropbox\\My PC (DESKTOP-M302P50)\\Documents\\UVic Civil Engineering\\PHREEQC\\mw\\chemw\\mw.py:562: DeprecationWarning: invalid escape sequence \\w\n",
      "  continue\n",
      "C:\\Users\\Andrew Freiburger\\Dropbox\\My PC (DESKTOP-M302P50)\\Documents\\UVic Civil Engineering\\PHREEQC\\mw\\chemw\\mw.py:567: DeprecationWarning: invalid escape sequence \\s\n",
      "  formula = reactants.split('+')[0].strip()\n",
      "C:\\Users\\Andrew Freiburger\\Dropbox\\My PC (DESKTOP-M302P50)\\Documents\\UVic Civil Engineering\\PHREEQC\\mw\\chemw\\mw.py:607: DeprecationWarning: invalid escape sequence \\.\n",
      "  def process(self,db_path):\n"
     ]
    }
   ],
   "source": [
    "from math import isclose\n",
    "from sigfig import round\n",
    "import pandas\n",
    "# from chemw import ChemMW\n",
    "%run ../../chemw/mw.py\n",
    "\n",
    "# calculate the MW for chemicals of known MW \n",
    "test_chemicals = {\n",
    "    'C60': 720.6,\n",
    "    'C60_H120_O2': 873.6,\n",
    "    'Na2.43_Cl_(OH)2_(OH)1.2_(OH)': 162.7,\n",
    "    'Na2.43Cl(Ca(OH)2)1.2':180.2,\n",
    "    'Na2.43Cl:2H2O': 127.3,\n",
    "    'Na2.43Cl2.5:2H2O': 180.5,\n",
    "    'CaCl2:(MgCl2)2:12H2O': 517.6,\n",
    "    'Na2SO4:3K2SO4': 664.8,\n",
    "    'K2SO4:CaSO4:H2O': 328.4,\n",
    "    'Na.96Al.96Si2.04O6:H2O ': 219.2,\n",
    "    'Ca1.019Na.136K.006Al2.18Si6.82O18:7.33H2O': 714.4\n",
    "}\n",
    "\n",
    "\n",
    "chem_mw = ChemMW(verbose = False)\n",
    "for chemical in test_chemicals:\n",
    "#     if list(test_chemicals.keys())[-1] == chemical:\n",
    "#         mw = ChemMW(verbose = True)\n",
    "    chem_mw.mass(chemical)\n",
    "    tolerance = float(chem_mw.mw)*0.001 \n",
    "    if not isclose(float(chem_mw.mw), test_chemicals[chemical], rel_tol = tolerance):\n",
    "        chem_mw = ChemMW(verbose = True)\n",
    "        chem_mw.mass(chemical)\n",
    "    else:\n",
    "        print('The mass is accurate.\\n\\n')\n",
    "    chem_mw = ChemMW(verbose = False)"
   ]
  }
 ],
 "metadata": {
  "kernelspec": {
   "display_name": "Python 3",
   "language": "python",
   "name": "python3"
  },
  "language_info": {
   "codemirror_mode": {
    "name": "ipython",
    "version": 3
   },
   "file_extension": ".py",
   "mimetype": "text/x-python",
   "name": "python",
   "nbconvert_exporter": "python",
   "pygments_lexer": "ipython3",
   "version": "3.7.4"
  }
 },
 "nbformat": 4,
 "nbformat_minor": 2
}
