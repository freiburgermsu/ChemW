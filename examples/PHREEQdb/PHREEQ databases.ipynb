{
 "cells": [
  {
   "cell_type": "code",
   "execution_count": 8,
   "metadata": {
    "scrolled": true
   },
   "outputs": [
    {
     "name": "stderr",
     "output_type": "stream",
     "text": [
      "<>:12: DeprecationWarning: invalid escape sequence \\.\n",
      "<>:12: DeprecationWarning: invalid escape sequence \\.\n",
      "C:\\Users\\Andrew Freiburger\\AppData\\Local\\Temp\\ipykernel_43436\\2242519301.py:12: DeprecationWarning: invalid escape sequence \\.\n",
      "  print('\\n\\n\\n', re.search('([A-Za-z0-9_\\.]+(?=\\.dat))',db).group(), 'database\\n', '='*len(db))\n"
     ]
    },
    {
     "name": "stdout",
     "output_type": "stream",
     "text": [
      "\n",
      "\n",
      "\n",
      " Amm database\n",
      " ============================\n",
      "Amm : 42 minerals\n",
      "\n",
      "\n",
      "\n",
      " ColdChem database\n",
      " =================================\n",
      "ColdChem : 29 minerals\n",
      "\n",
      "\n",
      "\n",
      " core10 database\n",
      " ===============================\n",
      "core10 : 273 minerals\n",
      "\n",
      "\n",
      "\n",
      " frezchem database\n",
      " =================================\n",
      "frezchem : 30 minerals\n",
      "\n",
      "\n",
      "\n",
      " iso database\n",
      " ============================\n",
      "iso : 25 minerals\n",
      "\n",
      "\n",
      "\n",
      " llnl database\n",
      " =============================\n",
      "llnl : 709 minerals\n",
      "\n",
      "\n",
      "\n",
      " minteq database\n",
      " ===============================\n",
      "minteq : 347 minerals\n",
      "\n",
      "\n",
      "\n",
      " minteq.v4 database\n",
      " ==================================\n",
      "minteq.v4 : 347 minerals\n",
      "\n",
      "\n",
      "\n",
      " phreeqc database\n",
      " ================================\n",
      "phreeqc : 42 minerals\n",
      "\n",
      "\n",
      "\n",
      " pitzer database\n",
      " ===============================\n",
      "pitzer : 56 minerals\n",
      "\n",
      "\n",
      "\n",
      " sit database\n",
      " ============================\n",
      "sit : 199 minerals\n",
      "\n",
      "\n",
      "\n",
      " Tipping_Hurley database\n",
      " =======================================\n",
      "Tipping_Hurley : 200 minerals\n",
      "\n",
      "\n",
      "\n",
      " wateq4f database\n",
      " ================================\n",
      "wateq4f : 200 minerals\n",
      "\n",
      "\n",
      "total_minerals: 1044\n"
     ]
    }
   ],
   "source": [
    "from sigfig import round\n",
    "from glob import glob\n",
    "import pandas, os, re\n",
    "# from chemw import PHREEQdb\n",
    "%run ../../chemw/mw.py\n",
    "\n",
    "phreeq_databases = [db for db in glob('../../test/databases/*.dat')]\n",
    "output_path = './processed_databases'\n",
    "phreeq_db = PHREEQdb(output_path, verbose = False)\n",
    "total_minerals = []\n",
    "for db in phreeq_databases:\n",
    "    print('\\n\\n\\n', re.search('([A-Za-z0-9_\\.]+(?=\\.dat))',db).group(), 'database\\n', '='*len(db))\n",
    "    minerals = phreeq_db.process(db)\n",
    "    total_minerals.extend(list(minerals))\n",
    "    \n",
    "print('\\n\\ntotal_minerals:', len(set(total_minerals)))"
   ]
  }
 ],
 "metadata": {
  "kernelspec": {
   "display_name": "Python 3 (ipykernel)",
   "language": "python",
   "name": "python3"
  },
  "language_info": {
   "codemirror_mode": {
    "name": "ipython",
    "version": 3
   },
   "file_extension": ".py",
   "mimetype": "text/x-python",
   "name": "python",
   "nbconvert_exporter": "python",
   "pygments_lexer": "ipython3",
   "version": "3.9.12"
  }
 },
 "nbformat": 4,
 "nbformat_minor": 4
}
