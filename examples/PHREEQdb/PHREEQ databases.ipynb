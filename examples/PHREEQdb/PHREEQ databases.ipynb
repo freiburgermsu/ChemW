{
 "cells": [
  {
   "cell_type": "code",
   "execution_count": 11,
   "metadata": {
    "scrolled": true
   },
   "outputs": [
    {
     "name": "stdout",
     "output_type": "stream",
     "text": [
      "\n",
      "\n",
      "\n",
      " Amm database\n",
      " ============================\n",
      "\n",
      "\n",
      "\n",
      " ColdChem database\n",
      " =================================\n",
      "\n",
      "\n",
      "\n",
      " core10 database\n",
      " ===============================\n",
      "\n",
      "\n",
      "\n",
      " frezchem database\n",
      " =================================\n",
      "\n",
      "\n",
      "\n",
      " iso database\n",
      " ============================\n",
      "\n",
      "\n",
      "\n",
      " llnl database\n",
      " =============================\n",
      "\n",
      "\n",
      "\n",
      " minteq database\n",
      " ===============================\n",
      "\n",
      "\n",
      "\n",
      " minteq.v4 database\n",
      " ==================================\n",
      "\n",
      "\n",
      "\n",
      " phreeqc database\n",
      " ================================\n",
      "\n",
      "\n",
      "\n",
      " pitzer database\n",
      " ===============================\n",
      "\n",
      "\n",
      "\n",
      " sit database\n",
      " ============================\n",
      "\n",
      "\n",
      "\n",
      " Tipping_Hurley database\n",
      " =======================================\n",
      "\n",
      "\n",
      "\n",
      " wateq4f database\n",
      " ================================\n"
     ]
    }
   ],
   "source": [
    "from sigfig import round\n",
    "from glob import glob\n",
    "import pandas, os, re\n",
    "# from chemw import PHREEQdb\n",
    "%run ../../chemw/mw.py\n",
    "\n",
    "phreeq_databases = [db for db in glob('../../test/databases/*.dat')]\n",
    "output_path = './processed_databases'\n",
    "phreeq_db = PHREEQdb(output_path, verbose = False)\n",
    "for db in phreeq_databases:\n",
    "    print('\\n\\n\\n', re.search('([A-Za-z0-9_\\.]+(?=\\.dat))',db).group(), 'database\\n', '='*len(db))\n",
    "    phreeq_db.process(db)"
   ]
  }
 ],
 "metadata": {
  "kernelspec": {
   "display_name": "Python 3",
   "language": "python",
   "name": "python3"
  },
  "language_info": {
   "codemirror_mode": {
    "name": "ipython",
    "version": 3
   },
   "file_extension": ".py",
   "mimetype": "text/x-python",
   "name": "python",
   "nbconvert_exporter": "python",
   "pygments_lexer": "ipython3",
   "version": "3.7.4"
  }
 },
 "nbformat": 4,
 "nbformat_minor": 2
}
